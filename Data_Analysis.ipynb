{
 "cells": [
  {
   "cell_type": "code",
   "execution_count": 22,
   "metadata": {},
   "outputs": [],
   "source": [
    "# Import used libraries\n",
    "from pathlib import Path\n",
    "import pandas as pd\n",
    "import numpy as np\n",
    "import matplotlib.pyplot as plt\n",
    "import seaborn as sns\n",
    "from sklearn.cluster import KMeans,AgglomerativeClustering\n",
    "from sklearn.metrics import silhouette_score"
   ]
  },
  {
   "cell_type": "code",
   "execution_count": 23,
   "metadata": {},
   "outputs": [
    {
     "name": "stdout",
     "output_type": "stream",
     "text": [
      "The dataset ABNI contains the following\n",
      "\n",
      "The number of samples/patients: 855\n",
      "The number of columns/features: 268\n"
     ]
    }
   ],
   "source": [
    "# Data loading functions. Uncomment the one you want to use\n",
    "from adni.load_data import load_data\n",
    "\n",
    "data = load_data()\n",
    "print('The dataset ABNI contains the following\\n')\n",
    "print(f'The number of samples/patients: {len(data.index)}')\n",
    "print(f'The number of columns/features: {len(data.columns)}')"
   ]
  },
  {
   "cell_type": "markdown",
   "metadata": {},
   "source": [
    "# Basic Data analysis\n",
    "Look at the overal structure of the data including types of values, number of values and basic statistics such as max, min, mean, std"
   ]
  },
  {
   "cell_type": "code",
   "execution_count": 14,
   "metadata": {
    "scrolled": true
   },
   "outputs": [
    {
     "name": "stdout",
     "output_type": "stream",
     "text": [
      "<class 'pandas.core.frame.DataFrame'>\n",
      "Index: 855 entries, 0_002_S_0413_bl_0 to 0_941_S_5193_bl_0\n",
      "Columns: 268 entries, hf_energy to vf_Frangi_inner_std_SR(1.0, 10.0)_SS2.0\n",
      "dtypes: float64(257), int64(10), object(1)\n",
      "memory usage: 1.8+ MB\n"
     ]
    }
   ],
   "source": [
    "data.info()"
   ]
  },
  {
   "cell_type": "code",
   "execution_count": 69,
   "metadata": {},
   "outputs": [
    {
     "data": {
      "text/html": [
       "<div>\n",
       "<style scoped>\n",
       "    .dataframe tbody tr th:only-of-type {\n",
       "        vertical-align: middle;\n",
       "    }\n",
       "\n",
       "    .dataframe tbody tr th {\n",
       "        vertical-align: top;\n",
       "    }\n",
       "\n",
       "    .dataframe thead th {\n",
       "        text-align: right;\n",
       "    }\n",
       "</style>\n",
       "<table border=\"1\" class=\"dataframe\">\n",
       "  <thead>\n",
       "    <tr style=\"text-align: right;\">\n",
       "      <th></th>\n",
       "      <th>hf_energy</th>\n",
       "      <th>hf_entropy</th>\n",
       "      <th>hf_kurtosis</th>\n",
       "      <th>hf_max</th>\n",
       "      <th>hf_mean</th>\n",
       "      <th>hf_median</th>\n",
       "      <th>hf_min</th>\n",
       "      <th>hf_peak</th>\n",
       "      <th>hf_quartile_range</th>\n",
       "      <th>hf_range</th>\n",
       "      <th>...</th>\n",
       "      <th>vf_Frangi_inner_kurtosis_SR(1.0, 10.0)_SS2.0</th>\n",
       "      <th>vf_Frangi_inner_max_SR(1.0, 10.0)_SS2.0</th>\n",
       "      <th>vf_Frangi_inner_mean_SR(1.0, 10.0)_SS2.0</th>\n",
       "      <th>vf_Frangi_inner_median_SR(1.0, 10.0)_SS2.0</th>\n",
       "      <th>vf_Frangi_inner_min_SR(1.0, 10.0)_SS2.0</th>\n",
       "      <th>vf_Frangi_inner_peak_SR(1.0, 10.0)_SS2.0</th>\n",
       "      <th>vf_Frangi_inner_quartile_range_SR(1.0, 10.0)_SS2.0</th>\n",
       "      <th>vf_Frangi_inner_range_SR(1.0, 10.0)_SS2.0</th>\n",
       "      <th>vf_Frangi_inner_skewness_SR(1.0, 10.0)_SS2.0</th>\n",
       "      <th>vf_Frangi_inner_std_SR(1.0, 10.0)_SS2.0</th>\n",
       "    </tr>\n",
       "  </thead>\n",
       "  <tbody>\n",
       "    <tr>\n",
       "      <th>count</th>\n",
       "      <td>855.000000</td>\n",
       "      <td>855.000000</td>\n",
       "      <td>855.000000</td>\n",
       "      <td>855.000000</td>\n",
       "      <td>855.000000</td>\n",
       "      <td>855.000000</td>\n",
       "      <td>855.000000</td>\n",
       "      <td>855.000000</td>\n",
       "      <td>855.000000</td>\n",
       "      <td>855.000000</td>\n",
       "      <td>...</td>\n",
       "      <td>855.000000</td>\n",
       "      <td>8.550000e+02</td>\n",
       "      <td>8.550000e+02</td>\n",
       "      <td>8.550000e+02</td>\n",
       "      <td>8.550000e+02</td>\n",
       "      <td>855.000000</td>\n",
       "      <td>8.550000e+02</td>\n",
       "      <td>8.550000e+02</td>\n",
       "      <td>855.000000</td>\n",
       "      <td>8.550000e+02</td>\n",
       "    </tr>\n",
       "    <tr>\n",
       "      <th>mean</th>\n",
       "      <td>3132.693138</td>\n",
       "      <td>4.725351</td>\n",
       "      <td>1.752785</td>\n",
       "      <td>1.806551</td>\n",
       "      <td>1.129672</td>\n",
       "      <td>1.208938</td>\n",
       "      <td>0.075205</td>\n",
       "      <td>300.777778</td>\n",
       "      <td>0.511669</td>\n",
       "      <td>1.731345</td>\n",
       "      <td>...</td>\n",
       "      <td>1.801424</td>\n",
       "      <td>1.266830e-09</td>\n",
       "      <td>4.565865e-10</td>\n",
       "      <td>3.711804e-10</td>\n",
       "      <td>1.064416e-10</td>\n",
       "      <td>16.407018</td>\n",
       "      <td>3.762215e-10</td>\n",
       "      <td>1.160389e-09</td>\n",
       "      <td>1.129984</td>\n",
       "      <td>3.265352e-10</td>\n",
       "    </tr>\n",
       "    <tr>\n",
       "      <th>std</th>\n",
       "      <td>2823.338029</td>\n",
       "      <td>0.322015</td>\n",
       "      <td>1.888511</td>\n",
       "      <td>0.279599</td>\n",
       "      <td>0.303533</td>\n",
       "      <td>0.293002</td>\n",
       "      <td>0.415439</td>\n",
       "      <td>96.252898</td>\n",
       "      <td>0.301788</td>\n",
       "      <td>0.370355</td>\n",
       "      <td>...</td>\n",
       "      <td>5.187279</td>\n",
       "      <td>1.067436e-09</td>\n",
       "      <td>3.994524e-10</td>\n",
       "      <td>3.695176e-10</td>\n",
       "      <td>1.896654e-10</td>\n",
       "      <td>25.606515</td>\n",
       "      <td>3.463014e-10</td>\n",
       "      <td>1.025276e-09</td>\n",
       "      <td>1.023081</td>\n",
       "      <td>2.756521e-10</td>\n",
       "    </tr>\n",
       "    <tr>\n",
       "      <th>min</th>\n",
       "      <td>59.642400</td>\n",
       "      <td>3.956519</td>\n",
       "      <td>-1.556002</td>\n",
       "      <td>0.963094</td>\n",
       "      <td>0.159041</td>\n",
       "      <td>0.048083</td>\n",
       "      <td>-0.738934</td>\n",
       "      <td>21.000000</td>\n",
       "      <td>0.205472</td>\n",
       "      <td>0.790367</td>\n",
       "      <td>...</td>\n",
       "      <td>-3.000000</td>\n",
       "      <td>0.000000e+00</td>\n",
       "      <td>0.000000e+00</td>\n",
       "      <td>0.000000e+00</td>\n",
       "      <td>0.000000e+00</td>\n",
       "      <td>1.000000</td>\n",
       "      <td>0.000000e+00</td>\n",
       "      <td>0.000000e+00</td>\n",
       "      <td>-1.395524</td>\n",
       "      <td>0.000000e+00</td>\n",
       "    </tr>\n",
       "    <tr>\n",
       "      <th>25%</th>\n",
       "      <td>1340.246316</td>\n",
       "      <td>4.465217</td>\n",
       "      <td>0.154278</td>\n",
       "      <td>1.603323</td>\n",
       "      <td>0.945029</td>\n",
       "      <td>1.047791</td>\n",
       "      <td>-0.255810</td>\n",
       "      <td>225.000000</td>\n",
       "      <td>0.311095</td>\n",
       "      <td>1.450877</td>\n",
       "      <td>...</td>\n",
       "      <td>-0.900426</td>\n",
       "      <td>6.037219e-10</td>\n",
       "      <td>1.894943e-10</td>\n",
       "      <td>1.105618e-10</td>\n",
       "      <td>9.442175e-24</td>\n",
       "      <td>2.000000</td>\n",
       "      <td>1.546043e-10</td>\n",
       "      <td>4.824618e-10</td>\n",
       "      <td>0.357840</td>\n",
       "      <td>1.553927e-10</td>\n",
       "    </tr>\n",
       "    <tr>\n",
       "      <th>50%</th>\n",
       "      <td>2168.524057</td>\n",
       "      <td>4.679203</td>\n",
       "      <td>1.981116</td>\n",
       "      <td>1.795893</td>\n",
       "      <td>1.126893</td>\n",
       "      <td>1.206801</td>\n",
       "      <td>0.018291</td>\n",
       "      <td>304.000000</td>\n",
       "      <td>0.375597</td>\n",
       "      <td>1.724990</td>\n",
       "      <td>...</td>\n",
       "      <td>0.524971</td>\n",
       "      <td>1.027719e-09</td>\n",
       "      <td>3.721065e-10</td>\n",
       "      <td>2.864644e-10</td>\n",
       "      <td>1.194204e-11</td>\n",
       "      <td>7.000000</td>\n",
       "      <td>3.089986e-10</td>\n",
       "      <td>9.217549e-10</td>\n",
       "      <td>1.024016</td>\n",
       "      <td>2.721868e-10</td>\n",
       "    </tr>\n",
       "    <tr>\n",
       "      <th>75%</th>\n",
       "      <td>3741.582163</td>\n",
       "      <td>4.994387</td>\n",
       "      <td>3.062567</td>\n",
       "      <td>1.989523</td>\n",
       "      <td>1.316522</td>\n",
       "      <td>1.381416</td>\n",
       "      <td>0.368919</td>\n",
       "      <td>367.000000</td>\n",
       "      <td>0.588420</td>\n",
       "      <td>1.988372</td>\n",
       "      <td>...</td>\n",
       "      <td>2.842516</td>\n",
       "      <td>1.649296e-09</td>\n",
       "      <td>6.114185e-10</td>\n",
       "      <td>5.221605e-10</td>\n",
       "      <td>1.413886e-10</td>\n",
       "      <td>20.000000</td>\n",
       "      <td>4.979078e-10</td>\n",
       "      <td>1.560705e-09</td>\n",
       "      <td>1.718258</td>\n",
       "      <td>4.262481e-10</td>\n",
       "    </tr>\n",
       "    <tr>\n",
       "      <th>max</th>\n",
       "      <td>18554.633717</td>\n",
       "      <td>5.402261</td>\n",
       "      <td>8.237613</td>\n",
       "      <td>3.415949</td>\n",
       "      <td>2.131128</td>\n",
       "      <td>2.141425</td>\n",
       "      <td>1.373523</td>\n",
       "      <td>636.000000</td>\n",
       "      <td>1.578203</td>\n",
       "      <td>3.372784</td>\n",
       "      <td>...</td>\n",
       "      <td>64.852716</td>\n",
       "      <td>8.211800e-09</td>\n",
       "      <td>3.071739e-09</td>\n",
       "      <td>2.844013e-09</td>\n",
       "      <td>1.641528e-09</td>\n",
       "      <td>236.000000</td>\n",
       "      <td>2.751437e-09</td>\n",
       "      <td>7.857531e-09</td>\n",
       "      <td>6.723008</td>\n",
       "      <td>2.092181e-09</td>\n",
       "    </tr>\n",
       "  </tbody>\n",
       "</table>\n",
       "<p>8 rows × 267 columns</p>\n",
       "</div>"
      ],
      "text/plain": [
       "          hf_energy  hf_entropy  hf_kurtosis      hf_max     hf_mean  \\\n",
       "count    855.000000  855.000000   855.000000  855.000000  855.000000   \n",
       "mean    3132.693138    4.725351     1.752785    1.806551    1.129672   \n",
       "std     2823.338029    0.322015     1.888511    0.279599    0.303533   \n",
       "min       59.642400    3.956519    -1.556002    0.963094    0.159041   \n",
       "25%     1340.246316    4.465217     0.154278    1.603323    0.945029   \n",
       "50%     2168.524057    4.679203     1.981116    1.795893    1.126893   \n",
       "75%     3741.582163    4.994387     3.062567    1.989523    1.316522   \n",
       "max    18554.633717    5.402261     8.237613    3.415949    2.131128   \n",
       "\n",
       "        hf_median      hf_min     hf_peak  hf_quartile_range    hf_range  ...  \\\n",
       "count  855.000000  855.000000  855.000000         855.000000  855.000000  ...   \n",
       "mean     1.208938    0.075205  300.777778           0.511669    1.731345  ...   \n",
       "std      0.293002    0.415439   96.252898           0.301788    0.370355  ...   \n",
       "min      0.048083   -0.738934   21.000000           0.205472    0.790367  ...   \n",
       "25%      1.047791   -0.255810  225.000000           0.311095    1.450877  ...   \n",
       "50%      1.206801    0.018291  304.000000           0.375597    1.724990  ...   \n",
       "75%      1.381416    0.368919  367.000000           0.588420    1.988372  ...   \n",
       "max      2.141425    1.373523  636.000000           1.578203    3.372784  ...   \n",
       "\n",
       "       vf_Frangi_inner_kurtosis_SR(1.0, 10.0)_SS2.0  \\\n",
       "count                                    855.000000   \n",
       "mean                                       1.801424   \n",
       "std                                        5.187279   \n",
       "min                                       -3.000000   \n",
       "25%                                       -0.900426   \n",
       "50%                                        0.524971   \n",
       "75%                                        2.842516   \n",
       "max                                       64.852716   \n",
       "\n",
       "       vf_Frangi_inner_max_SR(1.0, 10.0)_SS2.0  \\\n",
       "count                             8.550000e+02   \n",
       "mean                              1.266830e-09   \n",
       "std                               1.067436e-09   \n",
       "min                               0.000000e+00   \n",
       "25%                               6.037219e-10   \n",
       "50%                               1.027719e-09   \n",
       "75%                               1.649296e-09   \n",
       "max                               8.211800e-09   \n",
       "\n",
       "       vf_Frangi_inner_mean_SR(1.0, 10.0)_SS2.0  \\\n",
       "count                              8.550000e+02   \n",
       "mean                               4.565865e-10   \n",
       "std                                3.994524e-10   \n",
       "min                                0.000000e+00   \n",
       "25%                                1.894943e-10   \n",
       "50%                                3.721065e-10   \n",
       "75%                                6.114185e-10   \n",
       "max                                3.071739e-09   \n",
       "\n",
       "       vf_Frangi_inner_median_SR(1.0, 10.0)_SS2.0  \\\n",
       "count                                8.550000e+02   \n",
       "mean                                 3.711804e-10   \n",
       "std                                  3.695176e-10   \n",
       "min                                  0.000000e+00   \n",
       "25%                                  1.105618e-10   \n",
       "50%                                  2.864644e-10   \n",
       "75%                                  5.221605e-10   \n",
       "max                                  2.844013e-09   \n",
       "\n",
       "       vf_Frangi_inner_min_SR(1.0, 10.0)_SS2.0  \\\n",
       "count                             8.550000e+02   \n",
       "mean                              1.064416e-10   \n",
       "std                               1.896654e-10   \n",
       "min                               0.000000e+00   \n",
       "25%                               9.442175e-24   \n",
       "50%                               1.194204e-11   \n",
       "75%                               1.413886e-10   \n",
       "max                               1.641528e-09   \n",
       "\n",
       "       vf_Frangi_inner_peak_SR(1.0, 10.0)_SS2.0  \\\n",
       "count                                855.000000   \n",
       "mean                                  16.407018   \n",
       "std                                   25.606515   \n",
       "min                                    1.000000   \n",
       "25%                                    2.000000   \n",
       "50%                                    7.000000   \n",
       "75%                                   20.000000   \n",
       "max                                  236.000000   \n",
       "\n",
       "       vf_Frangi_inner_quartile_range_SR(1.0, 10.0)_SS2.0  \\\n",
       "count                                       8.550000e+02    \n",
       "mean                                        3.762215e-10    \n",
       "std                                         3.463014e-10    \n",
       "min                                         0.000000e+00    \n",
       "25%                                         1.546043e-10    \n",
       "50%                                         3.089986e-10    \n",
       "75%                                         4.979078e-10    \n",
       "max                                         2.751437e-09    \n",
       "\n",
       "       vf_Frangi_inner_range_SR(1.0, 10.0)_SS2.0  \\\n",
       "count                               8.550000e+02   \n",
       "mean                                1.160389e-09   \n",
       "std                                 1.025276e-09   \n",
       "min                                 0.000000e+00   \n",
       "25%                                 4.824618e-10   \n",
       "50%                                 9.217549e-10   \n",
       "75%                                 1.560705e-09   \n",
       "max                                 7.857531e-09   \n",
       "\n",
       "       vf_Frangi_inner_skewness_SR(1.0, 10.0)_SS2.0  \\\n",
       "count                                    855.000000   \n",
       "mean                                       1.129984   \n",
       "std                                        1.023081   \n",
       "min                                       -1.395524   \n",
       "25%                                        0.357840   \n",
       "50%                                        1.024016   \n",
       "75%                                        1.718258   \n",
       "max                                        6.723008   \n",
       "\n",
       "       vf_Frangi_inner_std_SR(1.0, 10.0)_SS2.0  \n",
       "count                             8.550000e+02  \n",
       "mean                              3.265352e-10  \n",
       "std                               2.756521e-10  \n",
       "min                               0.000000e+00  \n",
       "25%                               1.553927e-10  \n",
       "50%                               2.721868e-10  \n",
       "75%                               4.262481e-10  \n",
       "max                               2.092181e-09  \n",
       "\n",
       "[8 rows x 267 columns]"
      ]
     },
     "execution_count": 69,
     "metadata": {},
     "output_type": "execute_result"
    }
   ],
   "source": [
    "data.describe()"
   ]
  },
  {
   "cell_type": "markdown",
   "metadata": {},
   "source": [
    "# Exploratory Data Analysis\n",
    "Deep dive into the data for missing values, irregular values, non compliant features etc."
   ]
  },
  {
   "cell_type": "code",
   "execution_count": 54,
   "metadata": {
    "scrolled": true
   },
   "outputs": [],
   "source": [
    "data_statistics=data.describe()"
   ]
  },
  {
   "cell_type": "code",
   "execution_count": 62,
   "metadata": {},
   "outputs": [
    {
     "data": {
      "text/plain": [
       "Text(0.5,1,'Mean values columns')"
      ]
     },
     "execution_count": 62,
     "metadata": {},
     "output_type": "execute_result"
    },
    {
     "data": {
      "image/png": "[encoded data removed]",
      "text/plain": [
       "<matplotlib.figure.Figure at 0x7fb4db18fe48>"
      ]
     },
     "metadata": {
      "needs_background": "light"
     },
     "output_type": "display_data"
    }
   ],
   "source": [
    "plt.figure();\n",
    "plt.plot(range(267),data_statistics.loc['mean',:])\n",
    "plt.title(\"Mean values columns\")"
   ]
  },
  {
   "cell_type": "code",
   "execution_count": 68,
   "metadata": {},
   "outputs": [
    {
     "name": "stderr",
     "output_type": "stream",
     "text": [
      "/usr/lib/python3/dist-packages/numpy/core/fromnumeric.py:57: FutureWarning: \n",
      "The current behaviour of 'Series.argmax' is deprecated, use 'idxmax'\n",
      "instead.\n",
      "The behavior of 'argmax' will be corrected to return the positional\n",
      "maximum in the future. For now, use 'series.values.argmax' or\n",
      "'np.argmax(np.array(values))' to get the position of the maximum\n",
      "row.\n",
      "  return getattr(obj, method)(*args, **kwds)\n"
     ]
    },
    {
     "data": {
      "text/plain": [
       "count    8.550000e+02\n",
       "mean     3.559411e+07\n",
       "std      9.592060e+06\n",
       "min      2.327506e+06\n",
       "25%      2.874003e+07\n",
       "50%      3.559613e+07\n",
       "75%      4.200414e+07\n",
       "max      6.764746e+07\n",
       "Name: phasef_monogenic_energy_WL3_N5, dtype: float64"
      ]
     },
     "execution_count": 68,
     "metadata": {},
     "output_type": "execute_result"
    }
   ],
   "source": [
    "data_statistics[np.argmax(data_statistics.loc['mean',:])]"
   ]
  },
  {
   "cell_type": "markdown",
   "metadata": {},
   "source": [
    "## Missing Values\n",
    "Initial results show no missing data. Is this correct?"
   ]
  },
  {
   "cell_type": "code",
   "execution_count": 82,
   "metadata": {},
   "outputs": [
    {
     "data": {
      "text/plain": [
       "<matplotlib.axes._subplots.AxesSubplot at 0x7fb4d74925c0>"
      ]
     },
     "execution_count": 82,
     "metadata": {},
     "output_type": "execute_result"
    },
    {
     "data": {
      "image/png": "[encoded data removed]",
      "text/plain": [
       "<matplotlib.figure.Figure at 0x7fb4d744ea20>"
      ]
     },
     "metadata": {
      "needs_background": "light"
     },
     "output_type": "display_data"
    }
   ],
   "source": [
    "pd.options.mode.use_inf_as_na = True\n",
    "plt.figure()\n",
    "sns.heatmap(data.isnull(),cbar=False)\n"
   ]
  },
  {
   "cell_type": "markdown",
   "metadata": {},
   "source": [
    "## Preprocess Data"
   ]
  },
  {
   "cell_type": "code",
   "execution_count": 49,
   "metadata": {},
   "outputs": [],
   "source": [
    "samples= data.drop(['label'],axis=1)\n",
    "labels=[1 if \"AD\" in str(i) else 0 for i in data['label']]"
   ]
  },
  {
   "cell_type": "markdown",
   "metadata": {},
   "source": [
    "# Simple Clustering\n",
    "Using clustering to get a initial insight into data similairity for the given problem"
   ]
  },
  {
   "cell_type": "markdown",
   "metadata": {},
   "source": [
    "## K-means Clustering"
   ]
  },
  {
   "cell_type": "code",
   "execution_count": 52,
   "metadata": {},
   "outputs": [
    {
     "name": "stdout",
     "output_type": "stream",
     "text": [
      "The calculated silhouette score for 2 clusters is 0.5040025059137542\n",
      "The calculated silhouette score for 3 clusters is 0.4724853116359765\n",
      "The calculated silhouette score for 4 clusters is 0.4380625126675771\n",
      "The calculated silhouette score for 5 clusters is 0.4280194822458282\n",
      "The calculated silhouette score for 6 clusters is 0.41348231836743693\n",
      "The calculated silhouette score for 7 clusters is 0.38553706720012526\n",
      "The calculated silhouette score for 8 clusters is 0.3902483009806695\n",
      "The calculated silhouette score for 9 clusters is 0.37392003186665224\n"
     ]
    }
   ],
   "source": [
    "for i in range(2,10):\n",
    "    kmeans=KMeans(n_clusters=i,n_init=200,max_iter=800).fit(samples)\n",
    "    score=silhouette_score(samples,kmeans.labels_)\n",
    "    print(\"The calculated silhouette score for {} clusters is {}\".format(i,score))"
   ]
  },
  {
   "cell_type": "code",
   "execution_count": null,
   "metadata": {},
   "outputs": [],
   "source": []
  },
  {
   "cell_type": "code",
   "execution_count": null,
   "metadata": {},
   "outputs": [],
   "source": []
  }
 ],
 "metadata": {
  "kernelspec": {
   "display_name": "Python 3",
   "language": "python",
   "name": "python3"
  },
  "language_info": {
   "codemirror_mode": {
    "name": "ipython",
    "version": 3
   },
   "file_extension": ".py",
   "mimetype": "text/x-python",
   "name": "python",
   "nbconvert_exporter": "python",
   "pygments_lexer": "ipython3",
   "version": "3.6.9"
  }
 },
 "nbformat": 4,
 "nbformat_minor": 2
}
