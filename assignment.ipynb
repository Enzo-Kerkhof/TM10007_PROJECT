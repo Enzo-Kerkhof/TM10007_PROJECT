{
  "nbformat": 4,
  "nbformat_minor": 0,
  "metadata": {
    "colab": {
      "name": "assignment.ipynb",
      "provenance": [],
      "collapsed_sections": []
    },
    "kernelspec": {
      "display_name": "Python 3",
      "language": "python",
      "name": "python3"
    },
    "language_info": {
      "codemirror_mode": {
        "name": "ipython",
        "version": 3
      },
      "file_extension": ".py",
      "mimetype": "text/x-python",
      "name": "python",
      "nbconvert_exporter": "python",
      "pygments_lexer": "ipython3",
      "version": "3.6.9"
    }
  },
  "cells": [
    {
      "cell_type": "markdown",
      "metadata": {
        "colab_type": "text",
        "id": "7SXpaKwwGe5x"
      },
      "source": [
        "# TM10007 Assignment ADNI Dataset\n",
        "Bram Gerritse 4462599  \n",
        "Saskia Bijl 4439457  \n",
        "Karan Ramsodit  \n",
        "Enzo Kerkhof 44488555\n",
        "\n",
        "### Install git repo:"
      ]
    },
    {
      "cell_type": "code",
      "metadata": {
        "colab_type": "code",
        "id": "CiDn2Sk-VWqE",
        "outputId": "d93f42e8-780b-4a46-c861-21ee11881ec7",
        "colab": {
          "base_uri": "https://localhost:8080/",
          "height": 34
        }
      },
      "source": [
        "# Run this to use from colab environment to install git repo\n",
        "!pip install -q --upgrade git+https://github.com/Enzo-Kerkhof/TM10007_PROJECT.git@Enzo_testing\n",
        "\n",
        "# Use the @ to determine what branch to install. Don't use to install master."
      ],
      "execution_count": 105,
      "outputs": [
        {
          "output_type": "stream",
          "text": [
            "  Building wheel for adni (setup.py) ... \u001b[?25l\u001b[?25hdone\n"
          ],
          "name": "stdout"
        }
      ]
    },
    {
      "cell_type": "markdown",
      "metadata": {
        "id": "TmCYzrpEJMjJ",
        "colab_type": "text"
      },
      "source": [
        "### Import used libraries"
      ]
    },
    {
      "cell_type": "code",
      "metadata": {
        "colab_type": "code",
        "id": "gWpMLRN2tcyM",
        "colab": {}
      },
      "source": [
        "from pathlib import Path\n",
        "import pandas as pd\n",
        "import numpy as np\n",
        "import matplotlib.pyplot as plt\n",
        "import seaborn as sns\n",
        "from sklearn import preprocessing\n",
        "from sklearn import model_selection\n",
        "from sklearn import decomposition\n",
        "from sklearn import neighbors\n",
        "from sklearn import svm\n",
        "from sklearn import metrics\n"
      ],
      "execution_count": 0,
      "outputs": []
    },
    {
      "cell_type": "markdown",
      "metadata": {
        "colab_type": "text",
        "id": "_VumKdpfpKGc"
      },
      "source": [
        "### Data loading and splitting"
      ]
    },
    {
      "cell_type": "code",
      "metadata": {
        "colab_type": "code",
        "id": "-NE_fTbKGe5z",
        "colab": {}
      },
      "source": [
        "# Import premade data loading function\n",
        "from adni.load_data import load_data\n",
        "\n",
        "data = load_data()\n",
        "\n",
        "# Drop labels from dataframe\n",
        "X = data.drop(['label'],axis=1)\n",
        "\n",
        "# Binerize labels AD = 1, CN = 0\n",
        "Y = preprocessing.label_binarize(data['label'], ['CN', 'AD'])\n",
        "Y = [i[0] for i in Y]\n",
        "\n",
        "# Split data\n",
        "X_train, X_test, y_train, y_test = model_selection.train_test_split(X, Y, test_size=0.5)\n",
        "y_train = np.array(y_train)"
      ],
      "execution_count": 0,
      "outputs": []
    },
    {
      "cell_type": "markdown",
      "metadata": {
        "id": "ZjxbTZYpWvau",
        "colab_type": "text"
      },
      "source": [
        "### Missing data handeling"
      ]
    },
    {
      "cell_type": "code",
      "metadata": {
        "id": "ACSQ-eAKW1Yr",
        "colab_type": "code",
        "colab": {}
      },
      "source": [
        "# Features with a lot of zero's?\n",
        "# Samples with a lot of zero's?\n",
        "\n"
      ],
      "execution_count": 0,
      "outputs": []
    },
    {
      "cell_type": "markdown",
      "metadata": {
        "id": "OPLffZd3YLNA",
        "colab_type": "text"
      },
      "source": [
        "### Feature scaling\n",
        "\n",
        "Wat is hier de beste optie?"
      ]
    },
    {
      "cell_type": "code",
      "metadata": {
        "id": "DE-8I4_KYOGs",
        "colab_type": "code",
        "colab": {}
      },
      "source": [
        "# Scale the data to be normal\n",
        "scaler = preprocessing.RobustScaler()\n",
        "scaler.fit(X_train)\n",
        "X_train_scaled = scaler.transform(X_train)\n",
        "X_test_scaled = scaler.transform(X_test)\n"
      ],
      "execution_count": 0,
      "outputs": []
    },
    {
      "cell_type": "markdown",
      "metadata": {
        "id": "BhFa7L07YZHz",
        "colab_type": "text"
      },
      "source": [
        "### Feature selection\n",
        "\n",
        "Alleen PCA of eerst selecton én PCA?"
      ]
    },
    {
      "cell_type": "code",
      "metadata": {
        "id": "VxO1GpABYjFz",
        "colab_type": "code",
        "colab": {
          "base_uri": "https://localhost:8080/",
          "height": 290
        },
        "outputId": "1fc15716-b412-4672-97ab-8e882de561f3"
      },
      "source": [
        "# Perform a PCA\n",
        "pca = decomposition.PCA(n_components=50)\n",
        "pca.fit(X_train_scaled)\n",
        "X_train_pca = pca.transform(X_train_scaled)\n",
        "X_test_pca = pca.transform(X_test_scaled)\n",
        "\n",
        "plt.figure()\n",
        "plt.plot(np.cumsum(pca.explained_variance_ratio_))\n",
        "plt.xlabel('number of components')\n",
        "plt.ylabel('cumulative explained variance')\n",
        "plt.show()\n"
      ],
      "execution_count": 109,
      "outputs": [
        {
          "output_type": "display_data",
          "data": {
            "image/png": "[encoded data removed]",
            "text/plain": [
              "<Figure size 432x288 with 1 Axes>"
            ]
          },
          "metadata": {
            "tags": []
          }
        }
      ]
    },
    {
      "cell_type": "markdown",
      "metadata": {
        "id": "nGi6IIemYnyf",
        "colab_type": "text"
      },
      "source": [
        "\n",
        "### Fit classifier\n",
        "\n",
        "Hoe ingewikkeld willen we de classifier? Wat past bij onze data?"
      ]
    },
    {
      "cell_type": "code",
      "metadata": {
        "id": "xl5XIPVyYqk8",
        "colab_type": "code",
        "outputId": "ceff0020-5bc7-4ee1-b2a0-d208df5f1818",
        "colab": {
          "base_uri": "https://localhost:8080/",
          "height": 51
        }
      },
      "source": [
        "# Create a 20 fold stratified CV iterator\n",
        "cv_20fold = model_selection.StratifiedKFold(n_splits=20)\n",
        "results = []\n",
        "best_n_neighbors = []\n",
        "\n",
        "# Loop over the folds\n",
        "for validation_index, test_index in cv_20fold.split(X_train_pca, y_train):\n",
        "    # Split the data properly\n",
        "    X_validation = X_train_pca[validation_index]\n",
        "    y_validation = y_train[validation_index]\n",
        "    \n",
        "    X_validation_test = X_train_pca[test_index]\n",
        "    y_validation_test = y_train[test_index]\n",
        "    \n",
        "    # Create a grid search to find the optimal k using a gridsearch and 10-fold cross validation\n",
        "    # Same as above\n",
        "    parameters = {\"n_neighbors\": list(range(20, 60, 2))}\n",
        "    knn = neighbors.KNeighborsClassifier()\n",
        "    cv_10fold = model_selection.StratifiedKFold(n_splits=10)\n",
        "    grid_search = model_selection.GridSearchCV(knn, parameters, cv=cv_10fold, scoring='roc_auc')\n",
        "    grid_search.fit(X_validation, y_validation)\n",
        "    \n",
        "    # Get resulting classifier\n",
        "    clf = grid_search.best_estimator_\n",
        "    best_n_neighbors.append(clf.n_neighbors)\n",
        "    \n",
        "    # Test the classifier on the test data\n",
        "    probabilities = clf.predict_proba(X_validation_test)\n",
        "    scores = probabilities[:, 1]\n",
        "    \n",
        "    # Get the auc\n",
        "    auc = metrics.roc_auc_score(y_validation_test, scores)\n",
        "    results.append({\n",
        "        'auc': auc,\n",
        "        'k': clf.n_neighbors,\n",
        "        'set': 'test'\n",
        "    })\n",
        "    \n",
        "    # Test the classifier on the validation data\n",
        "    probabilities_validation = clf.predict_proba(X_validation)\n",
        "    scores_validation = probabilities_validation[:, 1]\n",
        "    \n",
        "    # Get the auc\n",
        "    auc_validation = metrics.roc_auc_score(y_validation, scores_validation)\n",
        "    results.append({\n",
        "        'auc': auc_validation,\n",
        "        'k': clf.n_neighbors,\n",
        "        'set': 'validation'\n",
        "    })\n",
        "    \n",
        "# Create results dataframe and plot it\n",
        "results = pd.DataFrame(results)\n",
        "\n",
        "optimal_n = int(np.median(best_n_neighbors))\n",
        "print(f\"The optimal N={optimal_n}\")\n",
        "\n",
        "\n",
        "# Fit kNN\n",
        "clf = neighbors.KNeighborsClassifier(n_neighbors=optimal_n)\n",
        "clf.fit(X_train_pca, y_train)\n",
        "\n",
        "probabilities_test = clf.predict_proba(X_test_pca)\n",
        "scores_test = probabilities_test[:, 1]\n",
        "\n",
        "# Print result\n",
        "auc = metrics.roc_auc_score(y_test, scores_test)\n",
        "print(f'THe AUC on the test set is {auc} using a {clf.n_neighbors}-NN classifier')"
      ],
      "execution_count": 110,
      "outputs": [
        {
          "output_type": "stream",
          "text": [
            "The optimal N=52\n",
            "THe AUC on the test set is 0.8240316205533597 using a 52-NN classifier\n"
          ],
          "name": "stdout"
        }
      ]
    }
  ]
}