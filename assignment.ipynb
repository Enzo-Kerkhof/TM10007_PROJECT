{
 "cells": [
  {
   "cell_type": "markdown",
   "metadata": {
    "colab_type": "text",
    "id": "7SXpaKwwGe5x"
   },
   "source": [
    "# TM10007 Assignment ADNI Dataset\n",
    "Bram Gerritse 4462599  \n",
    "Saskia Bijl 4439457  \n",
    "Karan Ramsodit  \n",
    "Enzo Kerkhof 44488555"
   ]
  },
  {
   "cell_type": "code",
   "execution_count": 20,
   "metadata": {
    "colab": {
     "base_uri": "https://localhost:8080/",
     "height": 34
    },
    "colab_type": "code",
    "id": "CiDn2Sk-VWqE",
    "outputId": "eeaa60b1-6e06-4499-c3c6-bb302124921c"
   },
   "outputs": [
    {
     "name": "stdout",
     "output_type": "stream",
     "text": [
      "  Building wheel for brats (setup.py) ... \u001b[?25l\u001b[?25hdone\n"
     ]
    }
   ],
   "source": [
    "# Run this to use from colab environment\n",
    "!pip install -q --upgrade git+https://github.com/Enzo-Kerkhof/TM10007_PROJECT.git"
   ]
  },
  {
   "cell_type": "code",
   "execution_count": 0,
   "metadata": {
    "colab": {},
    "colab_type": "code",
    "id": "gWpMLRN2tcyM"
   },
   "outputs": [],
   "source": [
    "# Import used libraries\n",
    "from pathlib import Path\n",
    "import pandas as pd\n",
    "import numpy as np"
   ]
  },
  {
   "cell_type": "markdown",
   "metadata": {
    "colab_type": "text",
    "id": "_VumKdpfpKGc"
   },
   "source": [
    "## Data loading and cleaning\n",
    "\n",
    "Below are functions to load the dataset of your choice. After that, it is all up to you to create and evaluate a classification method. Beware, there may be missing values in these datasets. Good luck!"
   ]
  },
  {
   "cell_type": "code",
   "execution_count": 23,
   "metadata": {
    "colab": {
     "base_uri": "https://localhost:8080/",
     "height": 289
    },
    "colab_type": "code",
    "id": "-NE_fTbKGe5z",
    "outputId": "8f2a6427-a95b-4162-ff5d-f99af5ca2835"
   },
   "outputs": [
    {
     "name": "stdout",
     "output_type": "stream",
     "text": [
      "The dataset ABNI contains the following\n",
      "\n",
      "The number of samples/patients: 855\n",
      "The number of columns/features: 268\n",
      "\n",
      "Header of the labels of the sampels\n",
      "\n",
      "ID\n",
      "0_002_S_0413_bl_0    AD\n",
      "0_002_S_0559_bl_0    AD\n",
      "0_002_S_0619_bl_0    CN\n",
      "0_002_S_0685_bl_0    AD\n",
      "0_002_S_0816_bl_0    CN\n",
      "Name: label, dtype: object <class 'pandas.core.frame.DataFrame'>\n",
      "\n",
      "Current working dir: /content\n"
     ]
    }
   ],
   "source": [
    "# Data loading functions. Uncomment the one you want to use\n",
    "from adni.load_data import load_data\n",
    "\n",
    "data = load_data()\n",
    "print('The dataset ABNI contains the following\\n')\n",
    "print(f'The number of samples/patients: {len(data.index)}')\n",
    "print(f'The number of columns/features: {len(data.columns)}')\n",
    "print('\\nHeader of the labels of the sampels\\n')\n",
    "print(data['label'].head(), type(data))\n",
    "print('\\nCurrent working dir:', Path.cwd())"
   ]
  }
 ],
 "metadata": {
  "colab": {
   "collapsed_sections": [],
   "name": "assignment.ipynb",
   "provenance": []
  },
  "kernelspec": {
   "display_name": "Python 3",
   "language": "python",
   "name": "python3"
  },
  "language_info": {
   "codemirror_mode": {
    "name": "ipython",
    "version": 3
   },
   "file_extension": ".py",
   "mimetype": "text/x-python",
   "name": "python",
   "nbconvert_exporter": "python",
   "pygments_lexer": "ipython3",
   "version": "3.7.4"
  }
 },
 "nbformat": 4,
 "nbformat_minor": 1
}
