{
  "nbformat": 4,
  "nbformat_minor": 0,
  "metadata": {
    "colab": {
      "name": "assignment.ipynb",
      "provenance": [],
      "collapsed_sections": []
    },
    "kernelspec": {
      "display_name": "Python 3",
      "language": "python",
      "name": "python3"
    },
    "language_info": {
      "codemirror_mode": {
        "name": "ipython",
        "version": 3
      },
      "file_extension": ".py",
      "mimetype": "text/x-python",
      "name": "python",
      "nbconvert_exporter": "python",
      "pygments_lexer": "ipython3",
      "version": "3.6.9"
    }
  },
  "cells": [
    {
      "cell_type": "markdown",
      "metadata": {
        "colab_type": "text",
        "id": "7SXpaKwwGe5x"
      },
      "source": [
        "# TM10007 Assignment ADNI Dataset\n",
        "Bram Gerritse 4462599  \n",
        "Saskia Bijl 4439457  \n",
        "Karan Ramsodit  \n",
        "Enzo Kerkhof 44488555\n",
        "\n",
        "### Install git repo:"
      ]
    },
    {
      "cell_type": "code",
      "metadata": {
        "colab_type": "code",
        "id": "CiDn2Sk-VWqE",
        "outputId": "5109fc56-8ea3-4c70-b855-be93f9579b0e",
        "colab": {
          "base_uri": "https://localhost:8080/",
          "height": 34
        }
      },
      "source": [
        "# Run this to use from colab environment to install git repo\n",
        "!pip install -q --upgrade git+https://github.com/Enzo-Kerkhof/TM10007_PROJECT.git@Enzo_testing\n",
        "\n",
        "# Use the @ to determine what branch to install. Don't use to install master."
      ],
      "execution_count": 67,
      "outputs": [
        {
          "output_type": "stream",
          "text": [
            "  Building wheel for adni (setup.py) ... \u001b[?25l\u001b[?25hdone\n"
          ],
          "name": "stdout"
        }
      ]
    },
    {
      "cell_type": "markdown",
      "metadata": {
        "id": "TmCYzrpEJMjJ",
        "colab_type": "text"
      },
      "source": [
        "### Import used libraries"
      ]
    },
    {
      "cell_type": "code",
      "metadata": {
        "colab_type": "code",
        "id": "gWpMLRN2tcyM",
        "colab": {}
      },
      "source": [
        "from pathlib import Path\n",
        "import pandas as pd\n",
        "import numpy as np\n",
        "import matplotlib.pyplot as plt\n",
        "import seaborn as sns\n",
        "from sklearn import preprocessing\n",
        "from sklearn import model_selection\n",
        "from sklearn import decomposition\n",
        "from sklearn import neighbors\n",
        "from sklearn import svm\n"
      ],
      "execution_count": 0,
      "outputs": []
    },
    {
      "cell_type": "markdown",
      "metadata": {
        "colab_type": "text",
        "id": "_VumKdpfpKGc"
      },
      "source": [
        "### Data loading and splitting"
      ]
    },
    {
      "cell_type": "code",
      "metadata": {
        "colab_type": "code",
        "id": "-NE_fTbKGe5z",
        "colab": {}
      },
      "source": [
        "# Import premade data loading function\n",
        "from adni.load_data import load_data\n",
        "\n",
        "data = load_data()\n",
        "\n",
        "# Drop labels from dataframe\n",
        "X = data.drop(['label'],axis=1)\n",
        "\n",
        "# Binerize labels AD = 1, CN = 0\n",
        "Y = preprocessing.label_binarize(data['label'], ['CN', 'AD'])\n",
        "Y = [i[0] for i in Y]\n",
        "\n",
        "# Split data\n",
        "X_train, X_test, y_train, y_test = model_selection.train_test_split(X, Y, test_size=0.5)"
      ],
      "execution_count": 0,
      "outputs": []
    },
    {
      "cell_type": "markdown",
      "metadata": {
        "id": "ZjxbTZYpWvau",
        "colab_type": "text"
      },
      "source": [
        "### Missing data handeling"
      ]
    },
    {
      "cell_type": "code",
      "metadata": {
        "id": "ACSQ-eAKW1Yr",
        "colab_type": "code",
        "colab": {}
      },
      "source": [
        "# Features with a lot of zero's?\n",
        "# Samples with a lot of zero's?\n",
        "\n"
      ],
      "execution_count": 0,
      "outputs": []
    },
    {
      "cell_type": "markdown",
      "metadata": {
        "id": "OPLffZd3YLNA",
        "colab_type": "text"
      },
      "source": [
        "### Feature scaling\n",
        "\n",
        "Wat is hier de beste optie?"
      ]
    },
    {
      "cell_type": "code",
      "metadata": {
        "id": "DE-8I4_KYOGs",
        "colab_type": "code",
        "colab": {}
      },
      "source": [
        "# Scale the data to be normal\n",
        "scaler = preprocessing.RobustScaler()\n",
        "scaler.fit(X_train)\n",
        "X_train_scaled = scaler.transform(X_train)\n",
        "X_test_scaled = scaler.transform(X_test)\n"
      ],
      "execution_count": 0,
      "outputs": []
    },
    {
      "cell_type": "markdown",
      "metadata": {
        "id": "BhFa7L07YZHz",
        "colab_type": "text"
      },
      "source": [
        "### Feature selection\n",
        "\n",
        "Alleen PCA of eerst selecton én PCA?"
      ]
    },
    {
      "cell_type": "code",
      "metadata": {
        "id": "VxO1GpABYjFz",
        "colab_type": "code",
        "colab": {}
      },
      "source": [
        "# Perform a PCA\n",
        "pca = decomposition.PCA(n_components=5)\n",
        "pca.fit(X_train_scaled)\n",
        "X_train_pca = pca.transform(X_train_scaled)\n",
        "X_test_pca = pca.transform(X_test_scaled)"
      ],
      "execution_count": 0,
      "outputs": []
    },
    {
      "cell_type": "markdown",
      "metadata": {
        "id": "nGi6IIemYnyf",
        "colab_type": "text"
      },
      "source": [
        "### Fit classifier\n",
        "\n",
        "Hoe ingewikkeld willen we de classifier? Wat past bij onze data?"
      ]
    },
    {
      "cell_type": "code",
      "metadata": {
        "id": "xl5XIPVyYqk8",
        "colab_type": "code",
        "colab": {
          "base_uri": "https://localhost:8080/",
          "height": 84
        },
        "outputId": "fb396eb1-50db-40a6-b14b-f790a3759392"
      },
      "source": [
        "# Fit kNN\n",
        "knn = neighbors.KNeighborsClassifier(n_neighbors=15)\n",
        "knn.fit(X_train_pca, y_train)\n",
        "score_train_knn = knn.score(X_train_pca, y_train)\n",
        "score_test_knn = knn.score(X_test_pca, y_test)\n",
        "\n",
        "# Fit SVM\n",
        "svmpoly = svm.SVC(kernel='poly', degree=3, gamma='scale')\n",
        "svmpoly.fit(X_train_pca, y_train)\n",
        "score_train_svm = svmpoly.score(X_train_pca, y_train)\n",
        "score_test_svm = svmpoly.score(X_test_pca, y_test)\n",
        "\n",
        "# Print result\n",
        "print(f\"Training result KNN: {score_train_knn}\")\n",
        "print(f\"Test result KNN: {score_test_knn}\")\n",
        "print(f\"Training result svm: {score_train_svm}\")\n",
        "print(f\"Test result svm: {score_test_svm}\")"
      ],
      "execution_count": 72,
      "outputs": [
        {
          "output_type": "stream",
          "text": [
            "Training result KNN: 0.7939110070257611\n",
            "Test result KNN: 0.7593457943925234\n",
            "Training result svm: 0.6088992974238876\n",
            "Test result svm: 0.6051401869158879\n"
          ],
          "name": "stdout"
        }
      ]
    }
  ]
}