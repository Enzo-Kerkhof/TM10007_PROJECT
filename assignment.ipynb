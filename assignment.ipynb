{
  "nbformat": 4,
  "nbformat_minor": 0,
  "metadata": {
    "colab": {
      "name": "assignment.ipynb",
      "provenance": [],
      "collapsed_sections": []
    },
    "kernelspec": {
      "display_name": "Python 3",
      "language": "python",
      "name": "python3"
    },
    "language_info": {
      "codemirror_mode": {
        "name": "ipython",
        "version": 3
      },
      "file_extension": ".py",
      "mimetype": "text/x-python",
      "name": "python",
      "nbconvert_exporter": "python",
      "pygments_lexer": "ipython3",
      "version": "3.6.9"
    }
  },
  "cells": [
    {
      "cell_type": "markdown",
      "metadata": {
        "colab_type": "text",
        "id": "7SXpaKwwGe5x"
      },
      "source": [
        "# TM10007 Assignment ADNI Dataset\n",
        "Bram Gerritse 4462599  \n",
        "Saskia Bijl 4439457  \n",
        "Karan Ramsodit  \n",
        "Enzo Kerkhof 44488555"
      ]
    },
    {
      "cell_type": "code",
      "metadata": {
        "colab_type": "code",
        "id": "CiDn2Sk-VWqE",
        "outputId": "35ab578f-0812-419c-83f1-7fb716b60eb5",
        "colab": {
          "base_uri": "https://localhost:8080/",
          "height": 34
        }
      },
      "source": [
        "# Run this to use from colab environment to install git repo\n",
        "!pip install -q --upgrade git+https://github.com/Enzo-Kerkhof/TM10007_PROJECT.git@git-install\n",
        "\n",
        "# Use the @ to determine what branch to install. Don't use to install master."
      ],
      "execution_count": 3,
      "outputs": [
        {
          "output_type": "stream",
          "text": [
            "  Building wheel for adni (setup.py) ... \u001b[?25l\u001b[?25hdone\n"
          ],
          "name": "stdout"
        }
      ]
    },
    {
      "cell_type": "code",
      "metadata": {
        "colab_type": "code",
        "id": "gWpMLRN2tcyM",
        "colab": {}
      },
      "source": [
        "# Import used libraries\n",
        "from pathlib import Path\n",
        "import pandas as pd\n",
        "import numpy as np"
      ],
      "execution_count": 0,
      "outputs": []
    },
    {
      "cell_type": "markdown",
      "metadata": {
        "colab_type": "text",
        "id": "_VumKdpfpKGc"
      },
      "source": [
        "## Data loading and cleaning"
      ]
    },
    {
      "cell_type": "code",
      "metadata": {
        "colab_type": "code",
        "id": "-NE_fTbKGe5z",
        "outputId": "fdd1a7a7-eabd-4622-8daa-26cc3454a3b6",
        "colab": {
          "base_uri": "https://localhost:8080/",
          "height": 289
        }
      },
      "source": [
        "# Data loading functions. Uncomment the one you want to use\n",
        "from adni.load_data import load_data\n",
        "\n",
        "data = load_data()\n",
        "print('The dataset ABNI contains the following\\n')\n",
        "print(f'The number of samples/patients: {len(data.index)}')\n",
        "print(f'The number of columns/features: {len(data.columns)}')\n",
        "print('\\nHeader of the labels of the sampels\\n')\n",
        "print(data['label'].head(), type(data))\n",
        "print('\\nCurrent working dir:', Path.cwd())"
      ],
      "execution_count": 13,
      "outputs": [
        {
          "output_type": "stream",
          "text": [
            "The dataset ABNI contains the following\n",
            "\n",
            "The number of samples/patients: 855\n",
            "The number of columns/features: 268\n",
            "\n",
            "Header of the labels of the sampels\n",
            "\n",
            "ID\n",
            "0_002_S_0413_bl_0    AD\n",
            "0_002_S_0559_bl_0    AD\n",
            "0_002_S_0619_bl_0    CN\n",
            "0_002_S_0685_bl_0    AD\n",
            "0_002_S_0816_bl_0    CN\n",
            "Name: label, dtype: object <class 'pandas.core.frame.DataFrame'>\n",
            "\n",
            "Current working dir: /content\n"
          ],
          "name": "stdout"
        }
      ]
    }
  ]
}